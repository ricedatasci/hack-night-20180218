{
 "cells": [
  {
   "cell_type": "markdown",
   "metadata": {},
   "source": [
    "An introduction to machine learning with scikit-learn\n",
    "=====================================================\n",
    "\n",
    "Machine learning: the problem setting\n",
    "-------------------------------------\n",
    "\n",
    "In general, a learning problem considers a set of n\n",
    "[samples](https://en.wikipedia.org/wiki/Sample_(statistics)) of data and\n",
    "then tries to predict properties of unknown data. If each sample is more\n",
    "than a single number and, for instance, a multi-dimensional entry (aka\n",
    "[multivariate](https://en.wikipedia.org/wiki/Multivariate_random_variable)\n",
    "data), it is said to have several attributes or **features**."
   ]
  },
  {
   "cell_type": "markdown",
   "metadata": {},
   "source": [
    "We can separate learning problems in a few large categories:\n",
    "\n",
    "> -   [supervised\n",
    ">     learning](https://en.wikipedia.org/wiki/Supervised_learning), in\n",
    ">     which the data comes with additional attributes that we want to\n",
    ">     predict (Click here &lt;supervised-learning&gt; to go to the\n",
    ">     scikit-learn supervised learning page).This problem can be either:\n",
    ">\n",
    ">     > -   [classification](https://en.wikipedia.org/wiki/Classification_in_machine_learning):\n",
    ">     >     samples belong to two or more classes and we want to learn\n",
    ">     >     from already labeled data how to predict the class of\n",
    ">     >     unlabeled data. An example of classification problem would\n",
    ">     >     be the handwritten digit recognition example, in which the\n",
    ">     >     aim is to assign each input vector to one of a finite number\n",
    ">     >     of discrete categories. Another way to think of\n",
    ">     >     classification is as a discrete (as opposed to continuous)\n",
    ">     >     form of supervised learning where one has a limited number\n",
    ">     >     of categories and for each of the n samples provided, one is\n",
    ">     >     to try to label them with the correct category or class.\n",
    ">     > -   [regression](https://en.wikipedia.org/wiki/Regression_analysis):\n",
    ">     >     if the desired output consists of one or more continuous\n",
    ">     >     variables, then the task is called *regression*. An example\n",
    ">     >     of a regression problem would be the prediction of the\n",
    ">     >     length of a salmon as a function of its age and weight.\n",
    ">\n",
    "> -   [unsupervised\n",
    ">     learning](https://en.wikipedia.org/wiki/Unsupervised_learning), in\n",
    ">     which the training data consists of a set of input vectors x\n",
    ">     without any corresponding target values. The goal in such problems\n",
    ">     may be to discover groups of similar examples within the data,\n",
    ">     where it is called\n",
    ">     [clustering](https://en.wikipedia.org/wiki/Cluster_analysis), or\n",
    ">     to determine the distribution of data within the input space,\n",
    ">     known as [density\n",
    ">     estimation](https://en.wikipedia.org/wiki/Density_estimation), or\n",
    ">     to project the data from a high-dimensional space down to two or\n",
    ">     three dimensions for the purpose of *visualization*\n",
    ">     (Click here &lt;unsupervised-learning&gt; to go to the\n",
    ">     Scikit-Learn unsupervised learning page)."
   ]
  },
  {
   "cell_type": "markdown",
   "metadata": {},
   "source": [
    "**Training set and testing set**\n",
    "\n",
    "Machine learning is about learning some properties of a data set and\n",
    "applying them to new data. This is why a common practice in machine\n",
    "learning to evaluate an algorithm is to split the data at hand into two\n",
    "sets, one that we call the **training set** on which we learn data\n",
    "properties and one that we call the **testing set** on which we test\n",
    "these properties."
   ]
  },
  {
   "cell_type": "markdown",
   "metadata": {},
   "source": [
    "Loading an example dataset\n",
    "--------------------------\n",
    "\n",
    "scikit-learn comes with a few standard datasets, for instance the\n",
    "[iris](https://en.wikipedia.org/wiki/Iris_flower_data_set) and\n",
    "[digits](http://archive.ics.uci.edu/ml/datasets/Pen-Based+Recognition+of+Handwritten+Digits)\n",
    "datasets for classification and the [boston house prices\n",
    "dataset](http://archive.ics.uci.edu/ml/datasets/Housing) for regression."
   ]
  },
  {
   "cell_type": "code",
   "execution_count": 1,
   "metadata": {},
   "outputs": [],
   "source": [
    "from sklearn import datasets\n",
    "iris = datasets.load_iris()\n",
    "digits = datasets.load_digits()"
   ]
  },
  {
   "cell_type": "markdown",
   "metadata": {},
   "source": [
    "A dataset is a dictionary-like object that holds all the data and some\n",
    "metadata about the data. This data is stored in the `.data` member,\n",
    "which is a `n_samples, n_features` array. In the case of supervised\n",
    "problem, one or more response variables are stored in the `.target`\n",
    "member. More details on the different datasets can be found in the\n",
    "dedicated section."
   ]
  },
  {
   "cell_type": "markdown",
   "metadata": {},
   "source": [
    "For instance, in the case of the digits dataset, `digits.data` gives\n",
    "access to the features that can be used to classify the digits samples:"
   ]
  },
  {
   "cell_type": "code",
   "execution_count": 4,
   "metadata": {},
   "outputs": [
    {
     "data": {
      "text/plain": [
       "array([[  0.,   0.,   5., ...,   0.,   0.,   0.],\n",
       "       [  0.,   0.,   0., ...,  10.,   0.,   0.],\n",
       "       [  0.,   0.,   0., ...,  16.,   9.,   0.],\n",
       "       ..., \n",
       "       [  0.,   0.,   1., ...,   6.,   0.,   0.],\n",
       "       [  0.,   0.,   2., ...,  12.,   0.,   0.],\n",
       "       [  0.,   0.,  10., ...,  12.,   1.,   0.]])"
      ]
     },
     "execution_count": 4,
     "metadata": {},
     "output_type": "execute_result"
    }
   ],
   "source": [
    "digits.data"
   ]
  },
  {
   "cell_type": "markdown",
   "metadata": {},
   "source": [
    "and `digits.target` gives the ground truth for the digit dataset, that\n",
    "is the number corresponding to each digit image that we are trying to\n",
    "learn:"
   ]
  },
  {
   "cell_type": "code",
   "execution_count": 5,
   "metadata": {},
   "outputs": [
    {
     "data": {
      "text/plain": [
       "array([0, 1, 2, ..., 8, 9, 8])"
      ]
     },
     "execution_count": 5,
     "metadata": {},
     "output_type": "execute_result"
    }
   ],
   "source": [
    "digits.target"
   ]
  },
  {
   "cell_type": "markdown",
   "metadata": {},
   "source": [
    "**Shape of the data arrays**\n",
    "\n",
    "The data is always a 2D array, shape `(n_samples, n_features)`, although\n",
    "the original data may have had a different shape. In the case of the\n",
    "digits, each original sample is an image of shape `(8, 8)` and can be\n",
    "accessed using:"
   ]
  },
  {
   "cell_type": "code",
   "execution_count": 6,
   "metadata": {},
   "outputs": [
    {
     "data": {
      "text/plain": [
       "array([[  0.,   0.,   5.,  13.,   9.,   1.,   0.,   0.],\n",
       "       [  0.,   0.,  13.,  15.,  10.,  15.,   5.,   0.],\n",
       "       [  0.,   3.,  15.,   2.,   0.,  11.,   8.,   0.],\n",
       "       [  0.,   4.,  12.,   0.,   0.,   8.,   8.,   0.],\n",
       "       [  0.,   5.,   8.,   0.,   0.,   9.,   8.,   0.],\n",
       "       [  0.,   4.,  11.,   0.,   1.,  12.,   7.,   0.],\n",
       "       [  0.,   2.,  14.,   5.,  10.,  12.,   0.,   0.],\n",
       "       [  0.,   0.,   6.,  13.,  10.,   0.,   0.,   0.]])"
      ]
     },
     "execution_count": 6,
     "metadata": {},
     "output_type": "execute_result"
    }
   ],
   "source": [
    "digits.images[0]"
   ]
  },
  {
   "cell_type": "markdown",
   "metadata": {},
   "source": [
    "Here is a simple example on this dataset that illustrates how starting from the original problem one can shape the\n",
    "data for consumption in scikit-learn."
   ]
  },
  {
   "cell_type": "markdown",
   "metadata": {},
   "source": [
    "Learning and predicting\n",
    "-----------------------\n",
    "\n",
    "In the case of the digits dataset, the task is to predict, given an\n",
    "image, which digit it represents. We are given samples of each of the 10\n",
    "possible classes (the digits zero through nine) on which we *fit* an\n",
    "[estimator](https://en.wikipedia.org/wiki/Estimator) to be able to\n",
    "*predict* the classes to which unseen samples belong.\n",
    "\n",
    "In scikit-learn, an estimator for classification is a Python object that\n",
    "implements the methods `fit(X, y)` and `predict(T)`.\n",
    "\n",
    "An example of an estimator is the class `sklearn.svm.SVC` that\n",
    "implements [support vector\n",
    "classification](https://en.wikipedia.org/wiki/Support_vector_machine).\n",
    "The constructor of an estimator takes as arguments the parameters of the\n",
    "model, but for the time being, we will consider the estimator as a black\n",
    "box:"
   ]
  },
  {
   "cell_type": "code",
   "execution_count": 9,
   "metadata": {},
   "outputs": [],
   "source": [
    "from sklearn import svm\n",
    "clf = svm.SVC(gamma=0.001, C=100.)"
   ]
  },
  {
   "cell_type": "markdown",
   "metadata": {},
   "source": [
    "**Choosing the parameters of the model**\n",
    "\n",
    "In this example we set the value of `gamma` manually. It is possible to\n",
    "automatically find good values for the parameters by using tools such as\n",
    "grid search and cross validation.\n",
    "\n",
    "We call our estimator instance `clf`, as it is a classifier. It now must\n",
    "be fitted to the model, that is, it must *learn* from the model. This is\n",
    "done by passing our training set to the `fit` method. As a training set,\n",
    "let us use all the images of our dataset apart from the last one. We\n",
    "select this training set with the `[:-1]` Python syntax, which produces\n",
    "a new array that contains all but the last entry of `digits.data`:"
   ]
  },
  {
   "cell_type": "code",
   "execution_count": 11,
   "metadata": {},
   "outputs": [
    {
     "data": {
      "text/plain": [
       "SVC(C=100.0, cache_size=200, class_weight=None, coef0=0.0,\n",
       "  decision_function_shape=None, degree=3, gamma=0.001, kernel='rbf',\n",
       "  max_iter=-1, probability=False, random_state=None, shrinking=True,\n",
       "  tol=0.001, verbose=False)"
      ]
     },
     "execution_count": 11,
     "metadata": {},
     "output_type": "execute_result"
    }
   ],
   "source": [
    "clf.fit(digits.data[:-1], digits.target[:-1])"
   ]
  },
  {
   "cell_type": "markdown",
   "metadata": {},
   "source": [
    "Now you can predict new values, in particular, we can ask to the\n",
    "classifier what is the digit of our last image in the `digits` dataset,\n",
    "which we have not used to train the classifier:"
   ]
  },
  {
   "cell_type": "code",
   "execution_count": 12,
   "metadata": {},
   "outputs": [
    {
     "data": {
      "text/plain": [
       "array([8])"
      ]
     },
     "execution_count": 12,
     "metadata": {},
     "output_type": "execute_result"
    }
   ],
   "source": [
    "clf.predict(digits.data[-1:])"
   ]
  },
  {
   "cell_type": "markdown",
   "metadata": {},
   "source": [
    "The corresponding image is the following:"
   ]
  },
  {
   "cell_type": "code",
   "execution_count": 19,
   "metadata": {},
   "outputs": [
    {
     "data": {
      "text/plain": [
       "<matplotlib.image.AxesImage at 0x7f46fc0e2668>"
      ]
     },
     "execution_count": 19,
     "metadata": {},
     "output_type": "execute_result"
    },
    {
     "data": {
      "image/png": "[encoded data removed]",
      "text/plain": [
       "<matplotlib.figure.Figure at 0x7f46fc110b00>"
      ]
     },
     "metadata": {},
     "output_type": "display_data"
    }
   ],
   "source": [
    "plt.imshow(digits.images[-1], cmap = \"gray\")"
   ]
  },
  {
   "cell_type": "markdown",
   "metadata": {},
   "source": [
    "As you can see, it is a challenging task: the images are of poor\n",
    "resolution. Do you agree with the classifier?\n",
    "\n",
    "A complete example of this classification problem is available as an\n",
    "example that you can run and study: http://scikit-learn.org/stable/auto_examples/classification/plot_digits_classification.html"
   ]
  }
 ],
 "metadata": {
  "kernelspec": {
   "display_name": "ml3.6",
   "language": "python",
   "name": "ml3.6"
  },
  "language_info": {
   "codemirror_mode": {
    "name": "ipython",
    "version": 3
   },
   "file_extension": ".py",
   "mimetype": "text/x-python",
   "name": "python",
   "nbconvert_exporter": "python",
   "pygments_lexer": "ipython3",
   "version": "3.6.3"
  }
 },
 "nbformat": 4,
 "nbformat_minor": 2
}
